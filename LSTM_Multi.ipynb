{
 "cells": [
  {
   "cell_type": "markdown",
   "id": "4bc36cf8",
   "metadata": {},
   "source": [
    "https://machinelearningmastery.com/multivariate-time-series-forecasting-lstms-keras/"
   ]
  },
  {
   "cell_type": "code",
   "execution_count": 1,
   "id": "e59a185a",
   "metadata": {},
   "outputs": [
    {
     "name": "stderr",
     "output_type": "stream",
     "text": [
      "Using TensorFlow backend.\n"
     ]
    }
   ],
   "source": [
    "from math import sqrt\n",
    "from numpy import concatenate\n",
    "from matplotlib import pyplot\n",
    "from pandas import read_csv\n",
    "from pandas import DataFrame\n",
    "from pandas import concat\n",
    "from sklearn.preprocessing import MinMaxScaler\n",
    "from sklearn.preprocessing import LabelEncoder\n",
    "from sklearn.metrics import mean_squared_error\n",
    "from keras.models import Sequential\n",
    "from keras.layers import Dense\n",
    "from keras.layers import LSTM"
   ]
  },
  {
   "cell_type": "code",
   "execution_count": 2,
   "id": "0a860173",
   "metadata": {},
   "outputs": [],
   "source": [
    "strFileName = '/Users/gauchetvanantwerpen/Documents/01 gvaLokaalDocs/01 Pers/02 Nisse/02 development/02 nissedb/results/jsebased.csv'"
   ]
  },
  {
   "cell_type": "code",
   "execution_count": 3,
   "id": "dc7a1e2f",
   "metadata": {},
   "outputs": [
    {
     "data": {
      "text/html": [
       "<div>\n",
       "<style scoped>\n",
       "    .dataframe tbody tr th:only-of-type {\n",
       "        vertical-align: middle;\n",
       "    }\n",
       "\n",
       "    .dataframe tbody tr th {\n",
       "        vertical-align: top;\n",
       "    }\n",
       "\n",
       "    .dataframe thead th {\n",
       "        text-align: right;\n",
       "    }\n",
       "</style>\n",
       "<table border=\"1\" class=\"dataframe\">\n",
       "  <thead>\n",
       "    <tr style=\"text-align: right;\">\n",
       "      <th></th>\n",
       "      <th>sp500_Close</th>\n",
       "      <th>jse_Close</th>\n",
       "      <th>ftse_Close</th>\n",
       "      <th>gdax_Close</th>\n",
       "      <th>hsng_Close</th>\n",
       "      <th>nikk_Close</th>\n",
       "    </tr>\n",
       "    <tr>\n",
       "      <th>Date</th>\n",
       "      <th></th>\n",
       "      <th></th>\n",
       "      <th></th>\n",
       "      <th></th>\n",
       "      <th></th>\n",
       "      <th></th>\n",
       "    </tr>\n",
       "  </thead>\n",
       "  <tbody>\n",
       "    <tr>\n",
       "      <th>2006-06-05T00:00:00.000000Z</th>\n",
       "      <td>1265.290039</td>\n",
       "      <td>1563.361450</td>\n",
       "      <td>5762.100098</td>\n",
       "      <td>5621.189941</td>\n",
       "      <td>16016.230469</td>\n",
       "      <td>311.160004</td>\n",
       "    </tr>\n",
       "    <tr>\n",
       "      <th>2006-06-06T00:00:00.000000Z</th>\n",
       "      <td>1263.849976</td>\n",
       "      <td>1417.662842</td>\n",
       "      <td>5669.799805</td>\n",
       "      <td>5502.810059</td>\n",
       "      <td>15973.110352</td>\n",
       "      <td>306.170013</td>\n",
       "    </tr>\n",
       "    <tr>\n",
       "      <th>2006-06-07T00:00:00.000000Z</th>\n",
       "      <td>1256.150024</td>\n",
       "      <td>1347.391846</td>\n",
       "      <td>5706.299805</td>\n",
       "      <td>5543.930176</td>\n",
       "      <td>15816.549805</td>\n",
       "      <td>299.920013</td>\n",
       "    </tr>\n",
       "    <tr>\n",
       "      <th>2006-06-08T00:00:00.000000Z</th>\n",
       "      <td>1257.930054</td>\n",
       "      <td>1289.370483</td>\n",
       "      <td>5562.899902</td>\n",
       "      <td>5383.279785</td>\n",
       "      <td>15450.110352</td>\n",
       "      <td>290.290009</td>\n",
       "    </tr>\n",
       "    <tr>\n",
       "      <th>2006-06-09T00:00:00.000000Z</th>\n",
       "      <td>1252.300049</td>\n",
       "      <td>1482.776123</td>\n",
       "      <td>5655.200195</td>\n",
       "      <td>5464.080078</td>\n",
       "      <td>15628.690430</td>\n",
       "      <td>292.880005</td>\n",
       "    </tr>\n",
       "  </tbody>\n",
       "</table>\n",
       "</div>"
      ],
      "text/plain": [
       "                             sp500_Close    jse_Close   ftse_Close  \\\n",
       "Date                                                                 \n",
       "2006-06-05T00:00:00.000000Z  1265.290039  1563.361450  5762.100098   \n",
       "2006-06-06T00:00:00.000000Z  1263.849976  1417.662842  5669.799805   \n",
       "2006-06-07T00:00:00.000000Z  1256.150024  1347.391846  5706.299805   \n",
       "2006-06-08T00:00:00.000000Z  1257.930054  1289.370483  5562.899902   \n",
       "2006-06-09T00:00:00.000000Z  1252.300049  1482.776123  5655.200195   \n",
       "\n",
       "                              gdax_Close    hsng_Close  nikk_Close  \n",
       "Date                                                                \n",
       "2006-06-05T00:00:00.000000Z  5621.189941  16016.230469  311.160004  \n",
       "2006-06-06T00:00:00.000000Z  5502.810059  15973.110352  306.170013  \n",
       "2006-06-07T00:00:00.000000Z  5543.930176  15816.549805  299.920013  \n",
       "2006-06-08T00:00:00.000000Z  5383.279785  15450.110352  290.290009  \n",
       "2006-06-09T00:00:00.000000Z  5464.080078  15628.690430  292.880005  "
      ]
     },
     "execution_count": 3,
     "metadata": {},
     "output_type": "execute_result"
    }
   ],
   "source": [
    "# gva load dataset\n",
    "\n",
    "dataset = read_csv(strFileName, header=0, index_col=0, engine='python')\n",
    "\n",
    "dataset.drop(['cluster_labels','anomaly_score','moex_Close','ks11_Close'], axis=1, inplace=True)\n",
    "\n",
    "dataset.head()"
   ]
  },
  {
   "cell_type": "code",
   "execution_count": 4,
   "id": "db7b2d33",
   "metadata": {},
   "outputs": [],
   "source": [
    "# convert series to supervised learning\n",
    "def series_to_supervised(data, n_in=1, n_out=1, dropnan=True):\n",
    "\tn_vars = 1 if type(data) is list else data.shape[1]\n",
    "\tdf = DataFrame(data)\n",
    "\tcols, names = list(), list()\n",
    "\t# input sequence (t-n, ... t-1)\n",
    "\tfor i in range(n_in, 0, -1):\n",
    "\t\tcols.append(df.shift(i))\n",
    "\t\tnames += [('var%d(t-%d)' % (j+1, i)) for j in range(n_vars)]\n",
    "\t# forecast sequence (t, t+1, ... t+n)\n",
    "\tfor i in range(0, n_out):\n",
    "\t\tcols.append(df.shift(-i))\n",
    "\t\tif i == 0:\n",
    "\t\t\tnames += [('var%d(t)' % (j+1)) for j in range(n_vars)]\n",
    "\t\telse:\n",
    "\t\t\tnames += [('var%d(t+%d)' % (j+1, i)) for j in range(n_vars)]\n",
    "\t# put it all together\n",
    "\tagg = concat(cols, axis=1)\n",
    "\tagg.columns = names\n",
    "\t# drop rows with NaN values\n",
    "\tif dropnan:\n",
    "\t\tagg.dropna(inplace=True)\n",
    "\treturn agg"
   ]
  },
  {
   "cell_type": "code",
   "execution_count": 90,
   "id": "7c1b57f5",
   "metadata": {},
   "outputs": [
    {
     "data": {
      "image/png": "[encoded data removed]",
      "text/plain": [
       "<Figure size 432x288 with 5 Axes>"
      ]
     },
     "metadata": {
      "needs_background": "light"
     },
     "output_type": "display_data"
    }
   ],
   "source": [
    "years=8\n",
    "\n",
    "# load dataset\n",
    "#dataset = read_csv(strFileName, header=0, index_col=0)\n",
    "\n",
    "#dataset = read_csv('pollution.csv', header=0, index_col=0)\n",
    "values = dataset.values\n",
    "# specify columns to plot\n",
    "groups = [0, 1, 2, 3, 5]\n",
    "i = 1\n",
    "# plot each column\n",
    "pyplot.figure()\n",
    "for group in groups:\n",
    "    pyplot.subplot(len(groups), 1, i)\n",
    "    pyplot.plot(values[:, group])\n",
    "    pyplot.title(dataset.columns[group], y=years, loc='right')\n",
    "    i += 1\n",
    "pyplot.show()"
   ]
  },
  {
   "cell_type": "code",
   "execution_count": 91,
   "id": "4b905a47",
   "metadata": {},
   "outputs": [],
   "source": [
    "# integer encode direction\n",
    "encoder = LabelEncoder()\n",
    "values[:,4] = encoder.fit_transform(values[:,4])\n",
    "# ensure all data is float\n",
    "values = values.astype('float32')\n",
    "# normalize features\n",
    "scaler = MinMaxScaler(feature_range=(0, 1))\n",
    "scaled = scaler.fit_transform(values)\n"
   ]
  },
  {
   "cell_type": "code",
   "execution_count": 92,
   "id": "c5ccfd3b",
   "metadata": {},
   "outputs": [
    {
     "data": {
      "text/plain": [
       "Index(['var1(t-1)', 'var2(t-1)', 'var3(t-1)', 'var4(t-1)', 'var5(t-1)',\n",
       "       'var6(t-1)', 'var1(t)', 'var2(t)', 'var3(t)', 'var4(t)', 'var5(t)',\n",
       "       'var6(t)'],\n",
       "      dtype='object')"
      ]
     },
     "execution_count": 92,
     "metadata": {},
     "output_type": "execute_result"
    }
   ],
   "source": [
    "# frame as supervised learning\n",
    "reframed = series_to_supervised(scaled, 1, 1)\n",
    "\n",
    "reframed.columns"
   ]
  },
  {
   "cell_type": "code",
   "execution_count": 93,
   "id": "c9420b87",
   "metadata": {},
   "outputs": [
    {
     "name": "stdout",
     "output_type": "stream",
     "text": [
      "   var1(t-1)  var2(t-1)  var3(t-1)  var4(t-1)  var5(t-1)  var6(t-1)   var1(t)\n",
      "1   0.142902   0.016546   0.515417   0.155076   0.039339   0.565944  0.142552\n",
      "2   0.142552   0.007982   0.494273   0.145684   0.038815   0.549371  0.140683\n",
      "3   0.140683   0.003852   0.502634   0.148946   0.037503   0.528613  0.141115\n",
      "4   0.141115   0.000441   0.469785   0.136202   0.031734   0.496629  0.139749\n",
      "5   0.139749   0.011809   0.490929   0.142612   0.035143   0.505231  0.136142\n"
     ]
    }
   ],
   "source": [
    "# drop columns we don't want to predict\n",
    "reframed.drop(reframed.columns[[7,8,9,10,11]], axis=1, inplace=True)\n",
    "print(reframed.head())"
   ]
  },
  {
   "cell_type": "code",
   "execution_count": 94,
   "id": "7556fdf9",
   "metadata": {},
   "outputs": [
    {
     "name": "stdout",
     "output_type": "stream",
     "text": [
      "2296 1132\n"
     ]
    }
   ],
   "source": [
    "#GVA\n",
    "# split into train and test sets\n",
    "\n",
    "# split into train and test sets\n",
    "values = reframed.values\n",
    "\n",
    "train_size = int(len(values) * 0.67)\n",
    "test_size = len(values) - train_size\n",
    "train, test = values[0:train_size,:], values[train_size:len(values),:]\n",
    "print(len(train), len(test))"
   ]
  },
  {
   "cell_type": "code",
   "execution_count": 95,
   "id": "38ad2e3c",
   "metadata": {},
   "outputs": [
    {
     "data": {
      "text/plain": [
       "(2296, 7)"
      ]
     },
     "execution_count": 95,
     "metadata": {},
     "output_type": "execute_result"
    }
   ],
   "source": [
    "train.shape"
   ]
  },
  {
   "cell_type": "code",
   "execution_count": 96,
   "id": "47945060",
   "metadata": {},
   "outputs": [
    {
     "data": {
      "text/plain": [
       "(1132, 7)"
      ]
     },
     "execution_count": 96,
     "metadata": {},
     "output_type": "execute_result"
    }
   ],
   "source": [
    "test.shape"
   ]
  },
  {
   "cell_type": "code",
   "execution_count": 97,
   "id": "b4dd634d",
   "metadata": {},
   "outputs": [
    {
     "name": "stdout",
     "output_type": "stream",
     "text": [
      "(2296, 1, 6) (2296,) (1132, 1, 6) (1132,)\n"
     ]
    }
   ],
   "source": [
    "# split into input and outputs\n",
    "train_X, train_y = train[:, :-1], train[:, -1]\n",
    "test_X, test_y = test[:, :-1], test[:, -1]\n",
    "# reshape input to be 3D [samples, timesteps, features]\n",
    "train_X = train_X.reshape((train_X.shape[0], 1, train_X.shape[1]))\n",
    "test_X = test_X.reshape((test_X.shape[0], 1, test_X.shape[1]))\n",
    "print(train_X.shape, train_y.shape, test_X.shape, test_y.shape)"
   ]
  },
  {
   "cell_type": "code",
   "execution_count": 98,
   "id": "73ad3080",
   "metadata": {},
   "outputs": [],
   "source": [
    "# design network\n",
    "model = Sequential()\n",
    "model.add(LSTM(50, input_shape=(train_X.shape[1], train_X.shape[2])))\n",
    "model.add(Dense(1))\n",
    "model.compile(loss='mae', optimizer='adam')\n"
   ]
  },
  {
   "cell_type": "code",
   "execution_count": 99,
   "id": "d4631499",
   "metadata": {},
   "outputs": [
    {
     "name": "stdout",
     "output_type": "stream",
     "text": [
      "Train on 2296 samples, validate on 1132 samples\n",
      "Epoch 1/50\n",
      " - 1s - loss: 0.0730 - val_loss: 0.1662\n",
      "Epoch 2/50\n",
      " - 0s - loss: 0.0727 - val_loss: 0.2090\n",
      "Epoch 3/50\n",
      " - 0s - loss: 0.0488 - val_loss: 0.1795\n",
      "Epoch 4/50\n",
      " - 0s - loss: 0.0417 - val_loss: 0.1615\n",
      "Epoch 5/50\n",
      " - 0s - loss: 0.0371 - val_loss: 0.1576\n",
      "Epoch 6/50\n",
      " - 0s - loss: 0.0318 - val_loss: 0.1560\n",
      "Epoch 7/50\n",
      " - 0s - loss: 0.0289 - val_loss: 0.1538\n",
      "Epoch 8/50\n",
      " - 0s - loss: 0.0271 - val_loss: 0.1541\n",
      "Epoch 9/50\n",
      " - 0s - loss: 0.0250 - val_loss: 0.1519\n",
      "Epoch 10/50\n",
      " - 0s - loss: 0.0238 - val_loss: 0.1536\n",
      "Epoch 11/50\n",
      " - 0s - loss: 0.0226 - val_loss: 0.1510\n",
      "Epoch 12/50\n",
      " - 0s - loss: 0.0221 - val_loss: 0.1509\n",
      "Epoch 13/50\n",
      " - 0s - loss: 0.0213 - val_loss: 0.1497\n",
      "Epoch 14/50\n",
      " - 0s - loss: 0.0209 - val_loss: 0.1470\n",
      "Epoch 15/50\n",
      " - 0s - loss: 0.0204 - val_loss: 0.1463\n",
      "Epoch 16/50\n",
      " - 0s - loss: 0.0194 - val_loss: 0.1451\n",
      "Epoch 17/50\n",
      " - 0s - loss: 0.0185 - val_loss: 0.1441\n",
      "Epoch 18/50\n",
      " - 0s - loss: 0.0175 - val_loss: 0.1445\n",
      "Epoch 19/50\n",
      " - 0s - loss: 0.0168 - val_loss: 0.1424\n",
      "Epoch 20/50\n",
      " - 0s - loss: 0.0165 - val_loss: 0.1407\n",
      "Epoch 21/50\n",
      " - 0s - loss: 0.0163 - val_loss: 0.1396\n",
      "Epoch 22/50\n",
      " - 0s - loss: 0.0159 - val_loss: 0.1381\n",
      "Epoch 23/50\n",
      " - 0s - loss: 0.0157 - val_loss: 0.1363\n",
      "Epoch 24/50\n",
      " - 0s - loss: 0.0155 - val_loss: 0.1354\n",
      "Epoch 25/50\n",
      " - 0s - loss: 0.0151 - val_loss: 0.1341\n",
      "Epoch 26/50\n",
      " - 0s - loss: 0.0148 - val_loss: 0.1332\n",
      "Epoch 27/50\n",
      " - 0s - loss: 0.0147 - val_loss: 0.1317\n",
      "Epoch 28/50\n",
      " - 0s - loss: 0.0148 - val_loss: 0.1293\n",
      "Epoch 29/50\n",
      " - 0s - loss: 0.0147 - val_loss: 0.1288\n",
      "Epoch 30/50\n",
      " - 0s - loss: 0.0143 - val_loss: 0.1278\n",
      "Epoch 31/50\n",
      " - 0s - loss: 0.0139 - val_loss: 0.1265\n",
      "Epoch 32/50\n",
      " - 0s - loss: 0.0136 - val_loss: 0.1252\n",
      "Epoch 33/50\n",
      " - 0s - loss: 0.0135 - val_loss: 0.1240\n",
      "Epoch 34/50\n",
      " - 0s - loss: 0.0134 - val_loss: 0.1227\n",
      "Epoch 35/50\n",
      " - 0s - loss: 0.0136 - val_loss: 0.1213\n",
      "Epoch 36/50\n",
      " - 0s - loss: 0.0137 - val_loss: 0.1202\n",
      "Epoch 37/50\n",
      " - 0s - loss: 0.0136 - val_loss: 0.1189\n",
      "Epoch 38/50\n",
      " - 0s - loss: 0.0136 - val_loss: 0.1181\n",
      "Epoch 39/50\n",
      " - 0s - loss: 0.0131 - val_loss: 0.1172\n",
      "Epoch 40/50\n",
      " - 0s - loss: 0.0126 - val_loss: 0.1169\n",
      "Epoch 41/50\n",
      " - 0s - loss: 0.0121 - val_loss: 0.1164\n",
      "Epoch 42/50\n",
      " - 0s - loss: 0.0115 - val_loss: 0.1174\n",
      "Epoch 43/50\n",
      " - 0s - loss: 0.0112 - val_loss: 0.1173\n",
      "Epoch 44/50\n",
      " - 0s - loss: 0.0110 - val_loss: 0.1191\n",
      "Epoch 45/50\n",
      " - 0s - loss: 0.0113 - val_loss: 0.1154\n",
      "Epoch 46/50\n",
      " - 0s - loss: 0.0124 - val_loss: 0.1116\n",
      "Epoch 47/50\n",
      " - 0s - loss: 0.0144 - val_loss: 0.1064\n",
      "Epoch 48/50\n",
      " - 0s - loss: 0.0159 - val_loss: 0.1045\n",
      "Epoch 49/50\n",
      " - 0s - loss: 0.0156 - val_loss: 0.1027\n",
      "Epoch 50/50\n",
      " - 0s - loss: 0.0144 - val_loss: 0.1055\n"
     ]
    }
   ],
   "source": [
    "# fit network\n",
    "history = model.fit(train_X, train_y, epochs=50, batch_size=72, validation_data=(test_X, test_y), verbose=2, shuffle=False)\n"
   ]
  },
  {
   "cell_type": "code",
   "execution_count": 100,
   "id": "d8243cfd",
   "metadata": {},
   "outputs": [
    {
     "data": {
      "image/png": "[encoded data removed]",
      "text/plain": [
       "<Figure size 432x288 with 1 Axes>"
      ]
     },
     "metadata": {
      "needs_background": "light"
     },
     "output_type": "display_data"
    }
   ],
   "source": [
    "# plot history\n",
    "pyplot.plot(history.history['loss'], label='train')\n",
    "pyplot.plot(history.history['val_loss'], label='test')\n",
    "pyplot.legend()\n",
    "pyplot.show()"
   ]
  },
  {
   "cell_type": "code",
   "execution_count": 103,
   "id": "fc47c870",
   "metadata": {},
   "outputs": [
    {
     "ename": "ValueError",
     "evalue": "Error when checking input: expected lstm_7_input to have 3 dimensions, but got array with shape (1132, 6)",
     "output_type": "error",
     "traceback": [
      "\u001b[0;31m---------------------------------------------------------------------------\u001b[0m",
      "\u001b[0;31mValueError\u001b[0m                                Traceback (most recent call last)",
      "\u001b[0;32m/var/folders/kn/6d98ln2n1tj8j95tnddt4wkc0000gn/T/ipykernel_41232/800024102.py\u001b[0m in \u001b[0;36m<module>\u001b[0;34m\u001b[0m\n\u001b[1;32m      2\u001b[0m \u001b[0mn_features\u001b[0m \u001b[0;34m=\u001b[0m \u001b[0;36m3\u001b[0m\u001b[0;34m\u001b[0m\u001b[0;34m\u001b[0m\u001b[0m\n\u001b[1;32m      3\u001b[0m \u001b[0;31m# make a prediction\u001b[0m\u001b[0;34m\u001b[0m\u001b[0;34m\u001b[0m\u001b[0;34m\u001b[0m\u001b[0m\n\u001b[0;32m----> 4\u001b[0;31m \u001b[0myhat\u001b[0m \u001b[0;34m=\u001b[0m \u001b[0mmodel\u001b[0m\u001b[0;34m.\u001b[0m\u001b[0mpredict\u001b[0m\u001b[0;34m(\u001b[0m\u001b[0mtest_X\u001b[0m\u001b[0;34m)\u001b[0m\u001b[0;34m\u001b[0m\u001b[0;34m\u001b[0m\u001b[0m\n\u001b[0m\u001b[1;32m      5\u001b[0m \u001b[0mtest_X\u001b[0m \u001b[0;34m=\u001b[0m \u001b[0mtest_X\u001b[0m\u001b[0;34m.\u001b[0m\u001b[0mreshape\u001b[0m\u001b[0;34m(\u001b[0m\u001b[0;34m(\u001b[0m\u001b[0mtest_X\u001b[0m\u001b[0;34m.\u001b[0m\u001b[0mshape\u001b[0m\u001b[0;34m[\u001b[0m\u001b[0;36m0\u001b[0m\u001b[0;34m]\u001b[0m\u001b[0;34m,\u001b[0m \u001b[0mn_hours\u001b[0m\u001b[0;34m*\u001b[0m\u001b[0mn_features\u001b[0m\u001b[0;34m+\u001b[0m\u001b[0;36m1\u001b[0m\u001b[0;34m)\u001b[0m\u001b[0;34m)\u001b[0m\u001b[0;34m\u001b[0m\u001b[0;34m\u001b[0m\u001b[0m\n\u001b[1;32m      6\u001b[0m \u001b[0;31m# invert scaling for forecast\u001b[0m\u001b[0;34m\u001b[0m\u001b[0;34m\u001b[0m\u001b[0;34m\u001b[0m\u001b[0m\n",
      "\u001b[0;32m/opt/anaconda3/envs/gva_p_3713/lib/python3.7/site-packages/keras/engine/training.py\u001b[0m in \u001b[0;36mpredict\u001b[0;34m(self, x, batch_size, verbose, steps, callbacks, max_queue_size, workers, use_multiprocessing)\u001b[0m\n\u001b[1;32m   1439\u001b[0m \u001b[0;34m\u001b[0m\u001b[0m\n\u001b[1;32m   1440\u001b[0m         \u001b[0;31m# Case 2: Symbolic tensors or Numpy array-like.\u001b[0m\u001b[0;34m\u001b[0m\u001b[0;34m\u001b[0m\u001b[0;34m\u001b[0m\u001b[0m\n\u001b[0;32m-> 1441\u001b[0;31m         \u001b[0mx\u001b[0m\u001b[0;34m,\u001b[0m \u001b[0m_\u001b[0m\u001b[0;34m,\u001b[0m \u001b[0m_\u001b[0m \u001b[0;34m=\u001b[0m \u001b[0mself\u001b[0m\u001b[0;34m.\u001b[0m\u001b[0m_standardize_user_data\u001b[0m\u001b[0;34m(\u001b[0m\u001b[0mx\u001b[0m\u001b[0;34m)\u001b[0m\u001b[0;34m\u001b[0m\u001b[0;34m\u001b[0m\u001b[0m\n\u001b[0m\u001b[1;32m   1442\u001b[0m         \u001b[0;32mif\u001b[0m \u001b[0mself\u001b[0m\u001b[0;34m.\u001b[0m\u001b[0mstateful\u001b[0m\u001b[0;34m:\u001b[0m\u001b[0;34m\u001b[0m\u001b[0;34m\u001b[0m\u001b[0m\n\u001b[1;32m   1443\u001b[0m             \u001b[0;32mif\u001b[0m \u001b[0mx\u001b[0m\u001b[0;34m[\u001b[0m\u001b[0;36m0\u001b[0m\u001b[0;34m]\u001b[0m\u001b[0;34m.\u001b[0m\u001b[0mshape\u001b[0m\u001b[0;34m[\u001b[0m\u001b[0;36m0\u001b[0m\u001b[0;34m]\u001b[0m \u001b[0;34m>\u001b[0m \u001b[0mbatch_size\u001b[0m \u001b[0;32mand\u001b[0m \u001b[0mx\u001b[0m\u001b[0;34m[\u001b[0m\u001b[0;36m0\u001b[0m\u001b[0;34m]\u001b[0m\u001b[0;34m.\u001b[0m\u001b[0mshape\u001b[0m\u001b[0;34m[\u001b[0m\u001b[0;36m0\u001b[0m\u001b[0;34m]\u001b[0m \u001b[0;34m%\u001b[0m \u001b[0mbatch_size\u001b[0m \u001b[0;34m!=\u001b[0m \u001b[0;36m0\u001b[0m\u001b[0;34m:\u001b[0m\u001b[0;34m\u001b[0m\u001b[0;34m\u001b[0m\u001b[0m\n",
      "\u001b[0;32m/opt/anaconda3/envs/gva_p_3713/lib/python3.7/site-packages/keras/engine/training.py\u001b[0m in \u001b[0;36m_standardize_user_data\u001b[0;34m(self, x, y, sample_weight, class_weight, check_array_lengths, batch_size)\u001b[0m\n\u001b[1;32m    577\u001b[0m             \u001b[0mfeed_input_shapes\u001b[0m\u001b[0;34m,\u001b[0m\u001b[0;34m\u001b[0m\u001b[0;34m\u001b[0m\u001b[0m\n\u001b[1;32m    578\u001b[0m             \u001b[0mcheck_batch_axis\u001b[0m\u001b[0;34m=\u001b[0m\u001b[0;32mFalse\u001b[0m\u001b[0;34m,\u001b[0m  \u001b[0;31m# Don't enforce the batch size.\u001b[0m\u001b[0;34m\u001b[0m\u001b[0;34m\u001b[0m\u001b[0m\n\u001b[0;32m--> 579\u001b[0;31m             exception_prefix='input')\n\u001b[0m\u001b[1;32m    580\u001b[0m \u001b[0;34m\u001b[0m\u001b[0m\n\u001b[1;32m    581\u001b[0m         \u001b[0;32mif\u001b[0m \u001b[0my\u001b[0m \u001b[0;32mis\u001b[0m \u001b[0;32mnot\u001b[0m \u001b[0;32mNone\u001b[0m\u001b[0;34m:\u001b[0m\u001b[0;34m\u001b[0m\u001b[0;34m\u001b[0m\u001b[0m\n",
      "\u001b[0;32m/opt/anaconda3/envs/gva_p_3713/lib/python3.7/site-packages/keras/engine/training_utils.py\u001b[0m in \u001b[0;36mstandardize_input_data\u001b[0;34m(data, names, shapes, check_batch_axis, exception_prefix)\u001b[0m\n\u001b[1;32m    133\u001b[0m                         \u001b[0;34m': expected '\u001b[0m \u001b[0;34m+\u001b[0m \u001b[0mnames\u001b[0m\u001b[0;34m[\u001b[0m\u001b[0mi\u001b[0m\u001b[0;34m]\u001b[0m \u001b[0;34m+\u001b[0m \u001b[0;34m' to have '\u001b[0m \u001b[0;34m+\u001b[0m\u001b[0;34m\u001b[0m\u001b[0;34m\u001b[0m\u001b[0m\n\u001b[1;32m    134\u001b[0m                         \u001b[0mstr\u001b[0m\u001b[0;34m(\u001b[0m\u001b[0mlen\u001b[0m\u001b[0;34m(\u001b[0m\u001b[0mshape\u001b[0m\u001b[0;34m)\u001b[0m\u001b[0;34m)\u001b[0m \u001b[0;34m+\u001b[0m \u001b[0;34m' dimensions, but got array '\u001b[0m\u001b[0;34m\u001b[0m\u001b[0;34m\u001b[0m\u001b[0m\n\u001b[0;32m--> 135\u001b[0;31m                         'with shape ' + str(data_shape))\n\u001b[0m\u001b[1;32m    136\u001b[0m                 \u001b[0;32mif\u001b[0m \u001b[0;32mnot\u001b[0m \u001b[0mcheck_batch_axis\u001b[0m\u001b[0;34m:\u001b[0m\u001b[0;34m\u001b[0m\u001b[0;34m\u001b[0m\u001b[0m\n\u001b[1;32m    137\u001b[0m                     \u001b[0mdata_shape\u001b[0m \u001b[0;34m=\u001b[0m \u001b[0mdata_shape\u001b[0m\u001b[0;34m[\u001b[0m\u001b[0;36m1\u001b[0m\u001b[0;34m:\u001b[0m\u001b[0;34m]\u001b[0m\u001b[0;34m\u001b[0m\u001b[0;34m\u001b[0m\u001b[0m\n",
      "\u001b[0;31mValueError\u001b[0m: Error when checking input: expected lstm_7_input to have 3 dimensions, but got array with shape (1132, 6)"
     ]
    }
   ],
   "source": [
    "n_hours = 2\n",
    "n_features = 3\n",
    "# make a prediction\n",
    "yhat = model.predict(test_X)\n",
    "test_X = test_X.reshape((test_X.shape[0], n_hours*n_features))\n",
    "# invert scaling for forecast\n",
    "inv_yhat = concatenate((yhat, test_X[:, -7:]), axis=1)\n",
    "inv_yhat = scaler.inverse_transform(inv_yhat)\n",
    "inv_yhat = inv_yhat[:,0]\n",
    "# invert scaling for actual\n",
    "test_y = test_y.reshape((len(test_y), 1))\n",
    "inv_y = concatenate((test_y, test_X[:, -7:]), axis=1)\n",
    "inv_y = scaler.inverse_transform(inv_y)\n",
    "inv_y = inv_y[:,0]\n",
    "# calculate RMSE\n",
    "rmse = sqrt(mean_squared_error(inv_y, inv_yhat))\n",
    "print('Test RMSE: %.3f' % rmse)"
   ]
  },
  {
   "cell_type": "code",
   "execution_count": null,
   "id": "88e8d4e2",
   "metadata": {},
   "outputs": [],
   "source": []
  }
 ],
 "metadata": {
  "kernelspec": {
   "display_name": "gva_p_3713",
   "language": "python",
   "name": "gva_p_3713"
  },
  "language_info": {
   "codemirror_mode": {
    "name": "ipython",
    "version": 3
   },
   "file_extension": ".py",
   "mimetype": "text/x-python",
   "name": "python",
   "nbconvert_exporter": "python",
   "pygments_lexer": "ipython3",
   "version": "3.7.13"
  }
 },
 "nbformat": 4,
 "nbformat_minor": 5
}
